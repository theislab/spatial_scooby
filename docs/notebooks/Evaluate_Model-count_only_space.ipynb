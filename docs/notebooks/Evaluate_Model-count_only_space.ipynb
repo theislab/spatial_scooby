{
 "cells": [
  {
   "cell_type": "markdown",
   "id": "6030719b-88d0-4561-bed1-de9f40f78c28",
   "metadata": {},
   "source": [
    "# Scooby Evaluator"
   ]
  },
  {
   "cell_type": "markdown",
   "id": "e037f270-d42e-41fd-94ca-8c4f9d144396",
   "metadata": {},
   "source": [
    "## General Imports"
   ]
  },
  {
   "cell_type": "code",
   "execution_count": 1,
   "id": "1a17cdad-6e32-4033-8a6e-9ae18c9027f5",
   "metadata": {
    "tags": []
   },
   "outputs": [],
   "source": [
    "%load_ext autoreload\n",
    "%autoreload 2"
   ]
  },
  {
   "cell_type": "code",
   "execution_count": 62,
   "id": "946ef16e-676e-438a-a3c5-6e3fc58ae49c",
   "metadata": {},
   "outputs": [
    {
     "data": {
      "text/plain": [
       "AnnData object with n_obs × n_vars = 62550 × 5006\n",
       "    obs: 'cell_id', 'transcript_counts', 'control_probe_counts', 'genomic_control_counts', 'control_codeword_counts', 'unassigned_codeword_counts', 'deprecated_codeword_counts', 'total_counts', 'cell_area', 'nucleus_area', 'nucleus_count', 'segmentation_method', 'region', 'z_level', 'cell_labels', 'n_genes_by_counts', 'log1p_n_genes_by_counts', 'log1p_total_counts', 'pct_counts_in_top_20_genes', 'total_counts_mt', 'log1p_total_counts_mt', 'pct_counts_mt', 'outlier', 'leiden', 'x', 'y'\n",
       "    var: 'gene_ids', 'feature_types', 'genome', 'mt', 'n_cells_by_counts', 'mean_counts', 'log1p_mean_counts', 'pct_dropout_by_counts', 'total_counts', 'log1p_total_counts', 'split', 'gene_name'\n",
       "    uns: 'leiden', 'leiden_colors', 'log1p', 'neighbors', 'spatial_neighbors', 'spatialdata_attrs', 'umap'\n",
       "    obsm: 'X_banksy', 'X_banksy_0.2', 'X_banksy_0.8', 'X_npca', 'X_pca', 'X_pca_train', 'X_pca_train_scaled', 'X_umap', 'cell_batch', 'spatial'\n",
       "    layers: 'log'\n",
       "    obsp: 'connectivities', 'distances', 'spatial_connectivities', 'spatial_distances'"
      ]
     },
     "execution_count": 62,
     "metadata": {},
     "output_type": "execute_result"
    }
   ],
   "source": [
    "adata_counts"
   ]
  },
  {
   "cell_type": "code",
   "execution_count": 2,
   "id": "5e00ed61-071f-4938-bcec-c17764083bea",
   "metadata": {
    "editable": true,
    "slideshow": {
     "slide_type": ""
    },
    "tags": []
   },
   "outputs": [
    {
     "name": "stderr",
     "output_type": "stream",
     "text": [
      "2025-04-10 18:04:23.235054: E external/local_xla/xla/stream_executor/cuda/cuda_fft.cc:485] Unable to register cuFFT factory: Attempting to register factory for plugin cuFFT when one has already been registered\n",
      "2025-04-10 18:04:23.247889: E external/local_xla/xla/stream_executor/cuda/cuda_dnn.cc:8454] Unable to register cuDNN factory: Attempting to register factory for plugin cuDNN when one has already been registered\n",
      "2025-04-10 18:04:23.251818: E external/local_xla/xla/stream_executor/cuda/cuda_blas.cc:1452] Unable to register cuBLAS factory: Attempting to register factory for plugin cuBLAS when one has already been registered\n",
      "2025-04-10 18:04:23.262059: I tensorflow/core/platform/cpu_feature_guard.cc:210] This TensorFlow binary is optimized to use available CPU instructions in performance-critical operations.\n",
      "To enable the following instructions: AVX2 FMA, in other operations, rebuild TensorFlow with the appropriate compiler flags.\n",
      "2025-04-10 18:04:24.989871: W tensorflow/compiler/tf2tensorrt/utils/py_utils.cc:38] TF-TRT Warning: Could not find TensorRT\n"
     ]
    }
   ],
   "source": [
    "import os\n",
    "\n",
    "import numpy as np\n",
    "import pandas as pd\n",
    "import scipy\n",
    "import torch\n",
    "import tqdm\n",
    "from accelerate import Accelerator\n",
    "from peft import LoraConfig, get_peft_model\n",
    "\n",
    "from torch.utils.data import DataLoader\n",
    "\n",
    "from enformer_pytorch.data import GenomeIntervalDataset\n",
    "\n",
    "import scanpy as sc\n",
    "\n",
    "from scooby.modeling import Scooby\n",
    "from scooby.data import onTheFlyDataset, onTheFlyPseudobulkDataset\n",
    "from scooby.utils.utils import fix_rev_comp_multiome, undo_squashed_scale, get_pseudobulk_count_pred,get_gene_slice_and_strand"
   ]
  },
  {
   "cell_type": "code",
   "execution_count": 3,
   "id": "9c08703f-dba4-4b50-ad01-9060ad81352e",
   "metadata": {},
   "outputs": [],
   "source": [
    "from scooby.utils.utils import process_count"
   ]
  },
  {
   "cell_type": "code",
   "execution_count": null,
   "id": "83199bc8-739a-4980-a07b-9428a88a4d1b",
   "metadata": {},
   "outputs": [],
   "source": []
  },
  {
   "cell_type": "code",
   "execution_count": 4,
   "id": "b06b888c-9302-4337-a8df-23d3fc614f2d",
   "metadata": {},
   "outputs": [],
   "source": [
    "data_path = '/s/project/QNA/seq2space/data/'"
   ]
  },
  {
   "cell_type": "markdown",
   "id": "1c425106-369e-481e-9812-df054e5f13bd",
   "metadata": {},
   "source": [
    "## scooby"
   ]
  },
  {
   "cell_type": "markdown",
   "id": "66321c1c",
   "metadata": {},
   "source": [
    "### Functions for Pearson correlation"
   ]
  },
  {
   "cell_type": "code",
   "execution_count": 5,
   "id": "3792ec64-388a-4677-80d3-2b6624ad5da2",
   "metadata": {
    "tags": []
   },
   "outputs": [],
   "source": [
    "def stack_and_pearson(x,y):\n",
    "    return torch.corrcoef(torch.stack([x,y]))[0,1]\n",
    "batched_pearson = torch.vmap(stack_and_pearson, chunk_size=1)\n",
    "\n",
    "def predict(model, seqs, seqs_rev_comp, conv_weights, conv_biases, bins_to_predict = None):\n",
    "    bs = seqs.shape[0]\n",
    "    # assert bs == 1\n",
    "    with torch.no_grad():\n",
    "        with torch.autocast(\"cuda\"):\n",
    "            outputs = model.forward_sequence_w_convs(seqs, conv_weights, conv_biases, bins_to_predict = bins_to_predict)\n",
    "            if bins_to_predict is not None:\n",
    "                outputs_rev_comp = model.forward_sequence_w_convs(seqs_rev_comp, conv_weights, conv_biases, bins_to_predict = (6143 - bins_to_predict))\n",
    "            else:\n",
    "                outputs_rev_comp = model.forward_sequence_w_convs(seqs_rev_comp, conv_weights, conv_biases, bins_to_predict = None)\n",
    "    flipped_version = torch.flip(outputs_rev_comp,(1,-3))\n",
    "    # outputs_rev_comp_test = fix_rev_comp_multiome(flipped_version) #fix_rev_comp2(flipped_version)\n",
    "    return (outputs + flipped_version)/2"
   ]
  },
  {
   "cell_type": "markdown",
   "id": "0dc94ffa",
   "metadata": {},
   "source": [
    "### Load the model"
   ]
  },
  {
   "cell_type": "code",
   "execution_count": 6,
   "id": "dca50696-f016-4f8f-9e5c-50b5e092e7eb",
   "metadata": {
    "tags": []
   },
   "outputs": [
    {
     "name": "stderr",
     "output_type": "stream",
     "text": [
      "Detected kernel version 4.18.0, which is below the recommended minimum of 5.5.0; this can cause the process to hang. It is recommended to upgrade the kernel to the minimum version or higher.\n"
     ]
    }
   ],
   "source": [
    "accelerator = Accelerator(step_scheduler_with_optimizer = False)"
   ]
  },
  {
   "cell_type": "markdown",
   "id": "3350e443-d51d-4706-9dff-75b09b7279b8",
   "metadata": {},
   "source": [
    "#### Option 1: Load pretrained scooby from the hub"
   ]
  },
  {
   "cell_type": "markdown",
   "id": "4efa5c74-5b4a-4502-93c2-8b3abb2b8f70",
   "metadata": {},
   "source": [
    "#### Option 2: Load self-trained scooby checkpoint, un-lora it, and save it"
   ]
  },
  {
   "cell_type": "code",
   "execution_count": 7,
   "id": "df8f0c3d-08a5-40f7-80d7-c86e3bff9ed2",
   "metadata": {},
   "outputs": [
    {
     "name": "stderr",
     "output_type": "stream",
     "text": [
      "Some weights of Scooby were not initialized from the model checkpoint at johahi/flashzoi-replicate-0 and are newly initialized: ['cell_state_to_conv.0.bias', 'cell_state_to_conv.0.weight', 'cell_state_to_conv.2.bias', 'cell_state_to_conv.2.weight', 'cell_state_to_conv.5.bias', 'cell_state_to_conv.5.weight', 'cell_state_to_conv.8.bias', 'cell_state_to_conv.8.weight']\n",
      "You should probably TRAIN this model on a down-stream task to be able to use it for predictions and inference.\n"
     ]
    },
    {
     "name": "stdout",
     "output_type": "stream",
     "text": [
      "(set(), [])\n"
     ]
    }
   ],
   "source": [
    "import safetensors\n",
    "from borzoi_pytorch.config_borzoi import BorzoiConfig\n",
    "from scooby.utils.utils import get_lora\n",
    "#Initialize the config\n",
    "config = BorzoiConfig.from_pretrained(\"johahi/flashzoi-replicate-0\")\n",
    "config.count_mode = \"TSS\"\n",
    "csb = Scooby.from_pretrained(\n",
    "        'johahi/flashzoi-replicate-0',\n",
    "        config = config,\n",
    "        cell_emb_dim=100,\n",
    "        embedding_dim=1920,\n",
    "        n_tracks=1,\n",
    "        return_center_bins_only=True,\n",
    "        disable_cache=False,\n",
    "        use_transform_borzoi_emb=False,\n",
    "        count_only=True\n",
    "    )\n",
    "# we have to make the lora version, load the weights, and merge the lora weights back into scooby\n",
    "csb = get_lora(csb, train=False)\n",
    "print (safetensors.torch.load_model(csb,'/s/project/QNA/seq2space/tmp/spatial_scooby_epoch_21_1000_spatial_scooby_run/model.safetensors')) \n",
    "csb = csb.merge_and_unload()\n",
    "\n",
    "# If you want to save the model to load it quicker next time\n",
    "# csb.save_pretrained('test_scooby_checkpoint')\n",
    "# can be then loaded with \n",
    "# scooby = Scooby.from_pretrained('test_scooby_checkpoint', cell...)"
   ]
  },
  {
   "cell_type": "markdown",
   "id": "3361e8e9",
   "metadata": {},
   "source": [
    "### Specify genome"
   ]
  },
  {
   "cell_type": "code",
   "execution_count": 8,
   "id": "96a95e9b",
   "metadata": {
    "tags": []
   },
   "outputs": [],
   "source": [
    "gtf_file = os.path.join(\"/s/project/QNA/seq2space/laika_training_data/gencode.vM25.annotation.gtf.gz\")\n",
    "fasta_file = os.path.join('/s/project/QNA/seq2space/data/GRCm38.p6.genome.fa')\n",
    "bed_file = os.path.join(\"/s/project/QNA/seq2space/laika_training_data/genes_centered.bed\")"
   ]
  },
  {
   "cell_type": "markdown",
   "id": "34fc346f",
   "metadata": {},
   "source": [
    "### Load neighbors and embedding"
   ]
  },
  {
   "cell_type": "code",
   "execution_count": 9,
   "id": "4b68eb5f-a33b-4512-9ea5-1d77fa6d5d29",
   "metadata": {},
   "outputs": [],
   "source": [
    "adata_counts_path = \"/s/project/QNA/seq2space/data/Xenium_Mouse_Brain_Processed_borz.h5ad\"\n",
    "adata_counts = sc.read_h5ad(adata_counts_path)"
   ]
  },
  {
   "cell_type": "code",
   "execution_count": 10,
   "id": "7dd4e5af-6338-4a3c-99e3-b1ff78f2c3ae",
   "metadata": {
    "scrolled": true
   },
   "outputs": [
    {
     "data": {
      "text/plain": [
       "AnnData object with n_obs × n_vars = 62550 × 5006\n",
       "    obs: 'cell_id', 'transcript_counts', 'control_probe_counts', 'genomic_control_counts', 'control_codeword_counts', 'unassigned_codeword_counts', 'deprecated_codeword_counts', 'total_counts', 'cell_area', 'nucleus_area', 'nucleus_count', 'segmentation_method', 'region', 'z_level', 'cell_labels', 'n_genes_by_counts', 'log1p_n_genes_by_counts', 'log1p_total_counts', 'pct_counts_in_top_20_genes', 'total_counts_mt', 'log1p_total_counts_mt', 'pct_counts_mt', 'outlier', 'leiden', 'x', 'y'\n",
       "    var: 'gene_ids', 'feature_types', 'genome', 'mt', 'n_cells_by_counts', 'mean_counts', 'log1p_mean_counts', 'pct_dropout_by_counts', 'total_counts', 'log1p_total_counts', 'split', 'gene_name'\n",
       "    uns: 'leiden', 'leiden_colors', 'log1p', 'neighbors', 'spatial_neighbors', 'spatialdata_attrs', 'umap'\n",
       "    obsm: 'X_banksy', 'X_banksy_0.2', 'X_banksy_0.8', 'X_npca', 'X_pca', 'X_pca_train', 'X_pca_train_scaled', 'X_umap', 'cell_batch', 'spatial'\n",
       "    layers: 'log'\n",
       "    obsp: 'connectivities', 'distances', 'spatial_connectivities', 'spatial_distances'"
      ]
     },
     "execution_count": 10,
     "metadata": {},
     "output_type": "execute_result"
    }
   ],
   "source": [
    "adata_counts"
   ]
  },
  {
   "cell_type": "code",
   "execution_count": 11,
   "id": "d0e95af5-657a-4df7-9d5a-0e2c0d183fae",
   "metadata": {},
   "outputs": [],
   "source": [
    "adata_aggregated = sc.get.aggregate(adata_counts, by=\"leiden\", func=\"sum\", layer=\"log\")"
   ]
  },
  {
   "cell_type": "code",
   "execution_count": 12,
   "id": "0c722f96-6873-42ca-b319-0e3c954d1045",
   "metadata": {},
   "outputs": [
    {
     "data": {
      "text/plain": [
       "AnnData object with n_obs × n_vars = 39 × 5006\n",
       "    obs: 'leiden'\n",
       "    var: 'gene_ids', 'feature_types', 'genome', 'mt', 'n_cells_by_counts', 'mean_counts', 'log1p_mean_counts', 'pct_dropout_by_counts', 'total_counts', 'log1p_total_counts', 'split', 'gene_name'\n",
       "    layers: 'sum'"
      ]
     },
     "execution_count": 12,
     "metadata": {},
     "output_type": "execute_result"
    }
   ],
   "source": [
    "adata_aggregated"
   ]
  },
  {
   "cell_type": "code",
   "execution_count": 13,
   "id": "60e43b84-4e09-435f-82ac-52983517a3eb",
   "metadata": {
    "scrolled": true
   },
   "outputs": [
    {
     "data": {
      "text/plain": [
       "['0',\n",
       " '1',\n",
       " '2',\n",
       " '3',\n",
       " '4',\n",
       " '5',\n",
       " '6',\n",
       " '7',\n",
       " '8',\n",
       " '9',\n",
       " '10',\n",
       " '11',\n",
       " '12',\n",
       " '13',\n",
       " '14',\n",
       " '15',\n",
       " '16',\n",
       " '17',\n",
       " '18',\n",
       " '19',\n",
       " '20',\n",
       " '21',\n",
       " '22',\n",
       " '23',\n",
       " '24',\n",
       " '25',\n",
       " '26',\n",
       " '27',\n",
       " '28',\n",
       " '29',\n",
       " '30',\n",
       " '31',\n",
       " '32',\n",
       " '33',\n",
       " '34',\n",
       " '35',\n",
       " '36',\n",
       " '37',\n",
       " '38']"
      ]
     },
     "execution_count": 13,
     "metadata": {},
     "output_type": "execute_result"
    }
   ],
   "source": [
    "adata_aggregated.obs.leiden.tolist()"
   ]
  },
  {
   "cell_type": "code",
   "execution_count": 14,
   "id": "9c4ea280-ea33-4c9e-8fb9-1fb97db436de",
   "metadata": {},
   "outputs": [],
   "source": [
    "cell_type_index = {\"celltype\": adata_aggregated.obs.leiden.tolist(),\n",
    "                   \"cellindex\": [np.where(adata_counts.obs.leiden == x)[0] for x in adata_aggregated.obs.leiden.tolist()],\n",
    "                   \"size\": [len(np.where(adata_counts.obs.leiden == x)[0]) for x in adata_aggregated.obs.leiden.tolist()]\n",
    "                  }"
   ]
  },
  {
   "cell_type": "code",
   "execution_count": 15,
   "id": "904a4a75-d7fe-4455-91c6-d639053f442b",
   "metadata": {},
   "outputs": [],
   "source": [
    "cell_type_index = pd.DataFrame(cell_type_index)"
   ]
  },
  {
   "cell_type": "markdown",
   "id": "8fe4caae-404f-49eb-b42b-b618c467239c",
   "metadata": {
    "editable": true,
    "slideshow": {
     "slide_type": ""
    },
    "tags": []
   },
   "source": [
    "## Eval on Val"
   ]
  },
  {
   "cell_type": "markdown",
   "id": "d3288ac9",
   "metadata": {},
   "source": [
    "### Sequence dataloader "
   ]
  },
  {
   "cell_type": "markdown",
   "id": "807a1161",
   "metadata": {},
   "source": [
    "This only loads the sequences in the right order"
   ]
  },
  {
   "cell_type": "code",
   "execution_count": 26,
   "id": "20a6fdb5-9e76-4aa6-b016-9fd32b92cfe3",
   "metadata": {},
   "outputs": [],
   "source": [
    "gtf_file = '/s/project/QNA/seq2space/laika_training_data/gencode.vM25.annotation.gtf.gz'"
   ]
  },
  {
   "cell_type": "code",
   "execution_count": 27,
   "id": "bdfc0c34-0e86-4270-b1b4-4dd6c0447078",
   "metadata": {},
   "outputs": [],
   "source": [
    "from scooby.utils.transcriptome import Transcriptome"
   ]
  },
  {
   "cell_type": "code",
   "execution_count": 28,
   "id": "81a7fbfa-f1dc-48bb-ad96-402a91e8adc8",
   "metadata": {},
   "outputs": [],
   "source": [
    "transcriptome = Transcriptome(gtf_file)"
   ]
  },
  {
   "cell_type": "code",
   "execution_count": 29,
   "id": "d2ca6331-d469-43e8-89cf-712ed4de158d",
   "metadata": {},
   "outputs": [
    {
     "data": {
      "text/plain": [
       "'/s/project/QNA/seq2space/data/GRCm38.p6.genome.fa'"
      ]
     },
     "execution_count": 29,
     "metadata": {},
     "output_type": "execute_result"
    }
   ],
   "source": [
    "fasta_file"
   ]
  },
  {
   "cell_type": "code",
   "execution_count": 30,
   "id": "794dec47-0ae7-4f29-a71c-f212aa61e0c4",
   "metadata": {},
   "outputs": [
    {
     "data": {
      "text/html": [
       "<div>\n",
       "<style scoped>\n",
       "    .dataframe tbody tr th:only-of-type {\n",
       "        vertical-align: middle;\n",
       "    }\n",
       "\n",
       "    .dataframe tbody tr th {\n",
       "        vertical-align: top;\n",
       "    }\n",
       "\n",
       "    .dataframe thead th {\n",
       "        text-align: right;\n",
       "    }\n",
       "</style>\n",
       "<table border=\"1\" class=\"dataframe\">\n",
       "  <thead>\n",
       "    <tr style=\"text-align: right;\">\n",
       "      <th></th>\n",
       "      <th>chr1</th>\n",
       "      <th>2974948</th>\n",
       "      <th>3171556</th>\n",
       "      <th>ENSMUSG00000102693</th>\n",
       "      <th>+</th>\n",
       "      <th>fold3</th>\n",
       "    </tr>\n",
       "  </thead>\n",
       "  <tbody>\n",
       "    <tr>\n",
       "      <th>0</th>\n",
       "      <td>chr1</td>\n",
       "      <td>3003711</td>\n",
       "      <td>3200319</td>\n",
       "      <td>ENSMUSG00000064842</td>\n",
       "      <td>+</td>\n",
       "      <td>fold3</td>\n",
       "    </tr>\n",
       "    <tr>\n",
       "      <th>1</th>\n",
       "      <td>chr1</td>\n",
       "      <td>3154452</td>\n",
       "      <td>3351060</td>\n",
       "      <td>ENSMUSG00000102851</td>\n",
       "      <td>+</td>\n",
       "      <td>fold3</td>\n",
       "    </tr>\n",
       "    <tr>\n",
       "      <th>2</th>\n",
       "      <td>chr1</td>\n",
       "      <td>3368282</td>\n",
       "      <td>3564890</td>\n",
       "      <td>ENSMUSG00000089699</td>\n",
       "      <td>+</td>\n",
       "      <td>fold3</td>\n",
       "    </tr>\n",
       "    <tr>\n",
       "      <th>3</th>\n",
       "      <td>chr1</td>\n",
       "      <td>3433490</td>\n",
       "      <td>3630098</td>\n",
       "      <td>ENSMUSG00000103147</td>\n",
       "      <td>+</td>\n",
       "      <td>fold3</td>\n",
       "    </tr>\n",
       "    <tr>\n",
       "      <th>4</th>\n",
       "      <td>chr1</td>\n",
       "      <td>3581850</td>\n",
       "      <td>3778458</td>\n",
       "      <td>ENSMUSG00000102348</td>\n",
       "      <td>+</td>\n",
       "      <td>fold3</td>\n",
       "    </tr>\n",
       "    <tr>\n",
       "      <th>...</th>\n",
       "      <td>...</td>\n",
       "      <td>...</td>\n",
       "      <td>...</td>\n",
       "      <td>...</td>\n",
       "      <td>...</td>\n",
       "      <td>...</td>\n",
       "    </tr>\n",
       "    <tr>\n",
       "      <th>55347</th>\n",
       "      <td>chrY</td>\n",
       "      <td>90433341</td>\n",
       "      <td>90629949</td>\n",
       "      <td>ENSMUSG00000100964</td>\n",
       "      <td>-</td>\n",
       "      <td>-1</td>\n",
       "    </tr>\n",
       "    <tr>\n",
       "      <th>55348</th>\n",
       "      <td>chrY</td>\n",
       "      <td>90507560</td>\n",
       "      <td>90704168</td>\n",
       "      <td>ENSMUSG00000099619</td>\n",
       "      <td>-</td>\n",
       "      <td>-1</td>\n",
       "    </tr>\n",
       "    <tr>\n",
       "      <th>55349</th>\n",
       "      <td>chrY</td>\n",
       "      <td>90569321</td>\n",
       "      <td>90765929</td>\n",
       "      <td>ENSMUSG00000099399</td>\n",
       "      <td>-</td>\n",
       "      <td>-1</td>\n",
       "    </tr>\n",
       "    <tr>\n",
       "      <th>55350</th>\n",
       "      <td>chrY</td>\n",
       "      <td>90657163</td>\n",
       "      <td>90853771</td>\n",
       "      <td>ENSMUSG00000095366</td>\n",
       "      <td>-</td>\n",
       "      <td>-1</td>\n",
       "    </tr>\n",
       "    <tr>\n",
       "      <th>55351</th>\n",
       "      <td>chrY</td>\n",
       "      <td>90740873</td>\n",
       "      <td>90937481</td>\n",
       "      <td>ENSMUSG00000096850</td>\n",
       "      <td>-</td>\n",
       "      <td>-1</td>\n",
       "    </tr>\n",
       "  </tbody>\n",
       "</table>\n",
       "<p>55352 rows × 6 columns</p>\n",
       "</div>"
      ],
      "text/plain": [
       "       chr1   2974948   3171556  ENSMUSG00000102693  +  fold3\n",
       "0      chr1   3003711   3200319  ENSMUSG00000064842  +  fold3\n",
       "1      chr1   3154452   3351060  ENSMUSG00000102851  +  fold3\n",
       "2      chr1   3368282   3564890  ENSMUSG00000089699  +  fold3\n",
       "3      chr1   3433490   3630098  ENSMUSG00000103147  +  fold3\n",
       "4      chr1   3581850   3778458  ENSMUSG00000102348  +  fold3\n",
       "...     ...       ...       ...                 ... ..    ...\n",
       "55347  chrY  90433341  90629949  ENSMUSG00000100964  -     -1\n",
       "55348  chrY  90507560  90704168  ENSMUSG00000099619  -     -1\n",
       "55349  chrY  90569321  90765929  ENSMUSG00000099399  -     -1\n",
       "55350  chrY  90657163  90853771  ENSMUSG00000095366  -     -1\n",
       "55351  chrY  90740873  90937481  ENSMUSG00000096850  -     -1\n",
       "\n",
       "[55352 rows x 6 columns]"
      ]
     },
     "execution_count": 30,
     "metadata": {},
     "output_type": "execute_result"
    }
   ],
   "source": [
    "pd.read_table(\"/s/project/QNA/seq2space/laika_training_data/genes_centered.bed\")"
   ]
  },
  {
   "cell_type": "code",
   "execution_count": 31,
   "id": "bb27c9cb-0ef7-4c2a-a358-8f042e873327",
   "metadata": {},
   "outputs": [],
   "source": [
    "pd.read_table(\"/s/project/QNA/seq2space/laika_training_data/genes_centered.bed\" , header =None, names = [\"Chr\", \"Start\", \"End\", \"Gene\", \"Strand\", \"Set\"]).query(\"Set == 'fold3'\").to_csv('/s/project/QNA/seq2space/laika_training_data/genes_centered_test_only.bed', sep = '\\t', index = None, header= None)"
   ]
  },
  {
   "cell_type": "code",
   "execution_count": 32,
   "id": "e999df94-2164-4271-a45e-5a29c1495b4e",
   "metadata": {
    "editable": true,
    "slideshow": {
     "slide_type": ""
    },
    "tags": []
   },
   "outputs": [
    {
     "data": {
      "text/plain": [
       "480"
      ]
     },
     "execution_count": 32,
     "metadata": {},
     "output_type": "execute_result"
    }
   ],
   "source": [
    "import polars as pl\n",
    "context_length = 524288\n",
    "filter_val = lambda df: df.filter(True)#\n",
    "val_ds = GenomeIntervalDataset(\n",
    "    bed_file = '/s/project/QNA/seq2space/laika_training_data/genes_centered_test_only.bed',\n",
    "    fasta_file = fasta_file,\n",
    "    filter_df_fn = lambda df: df.filter((pl.col('column_2') >=0) & (pl.col('column_4').is_in(adata_counts.var_names))), \n",
    "    return_seq_indices = False,\n",
    "    shift_augs = (0,0),\n",
    "    rc_aug = False,\n",
    "    return_augs = True,\n",
    "    context_length = context_length,\n",
    "    chr_bed_to_fasta_map = {}\n",
    ")\n",
    "len(val_ds)"
   ]
  },
  {
   "cell_type": "code",
   "execution_count": null,
   "id": "8ee42076-7c59-4b02-bd00-f0ba932753a5",
   "metadata": {},
   "outputs": [],
   "source": []
  },
  {
   "cell_type": "code",
   "execution_count": null,
   "id": "4b079e28-6bd4-40e2-b5f1-4a4db39e0777",
   "metadata": {},
   "outputs": [],
   "source": []
  },
  {
   "cell_type": "code",
   "execution_count": 33,
   "id": "14624ea1-e7f0-4551-8600-50b5d3119e8e",
   "metadata": {
    "scrolled": true
   },
   "outputs": [],
   "source": [
    "clip_soft=  5\n",
    "val_dataset = onTheFlyDataset(\n",
    "    None,\n",
    "    None,\n",
    "    None, \n",
    "    embedding=pd.DataFrame({ 'embedding': [row for row in adata_counts.obsm[\"X_banksy_0.2\"]]}), \n",
    "    ds=val_ds,\n",
    "    get_targets= False,\n",
    "    random_cells = False,\n",
    "    cells_to_run = None, \n",
    "    clip_soft = clip_soft,\n",
    "    )\n",
    "val_loader = DataLoader(val_dataset, batch_size=1, shuffle = False, num_workers = 1)\n",
    "csb, val_loader = accelerator.prepare(csb, val_loader)"
   ]
  },
  {
   "cell_type": "markdown",
   "id": "15ddc19e",
   "metadata": {},
   "source": [
    "### Get cell conv_weights for all cells"
   ]
  },
  {
   "cell_type": "code",
   "execution_count": 34,
   "id": "3aff6db9-447f-42a9-b34a-6d37f9974b56",
   "metadata": {
    "editable": true,
    "slideshow": {
     "slide_type": ""
    },
    "tags": []
   },
   "outputs": [],
   "source": [
    "csb.eval()\n",
    "cell_indices_ct  = []\n",
    "size_factors_per_ct = []\n",
    "for _, row in tqdm.tqdm(cell_type_index.iterrows(),disable = True):\n",
    "    cell_indices_ct.append(\n",
    "        torch.from_numpy(\n",
    "            np.vstack(\n",
    "                adata_counts.obsm[\"X_banksy_0.2\"][row['cellindex'], :] # gets embeddings of all cells of the cell type\n",
    "                )\n",
    "            ).unsqueeze(0)\n",
    "        ) # prep cell_embeddings\n",
    "\n",
    "cell_indices_niche  = []\n",
    "size_factors_per_ct = []\n",
    "for _, row in tqdm.tqdm(cell_type_index.iterrows(),disable = True):\n",
    "    cell_indices_niche.append(\n",
    "        torch.from_numpy(\n",
    "            np.vstack(\n",
    "                adata_counts.obsm[\"X_banksy_0.2\"][row['cellindex'], :] # gets embeddings of all cells of the cell type\n",
    "                )\n",
    "            ).unsqueeze(0)\n",
    "        ) # prep cell_embeddings\n",
    "\n",
    "# get conv weights and biases for all cells sorted by cell type in a list\n",
    "cell_emb_conv_weights_and_biases = []\n",
    "for cell_emb_idx in tqdm.tqdm(zip(cell_indices_ct, cell_indices_niche), disable = True):\n",
    "    cell_emb_idx = torch.cat([cell_emb_idx[0], cell_emb_idx[1]], dim=2).to(torch.float).cuda()\n",
    "    cell_emb_conv_weights,cell_emb_conv_biases = csb.forward_cell_embs_only(cell_emb_idx)\n",
    "    cell_emb_conv_weights_and_biases.append((cell_emb_conv_weights.to(torch.float16), cell_emb_conv_biases.to(torch.float16)))\n"
   ]
  },
  {
   "cell_type": "markdown",
   "id": "3892c28a",
   "metadata": {},
   "source": [
    "### Get counts over exons"
   ]
  },
  {
   "cell_type": "code",
   "execution_count": 50,
   "id": "ae5a22bb-bad8-4229-8f9d-11f6c5a4b6bd",
   "metadata": {
    "scrolled": true
   },
   "outputs": [
    {
     "name": "stderr",
     "output_type": "stream",
     "text": [
      "100%|██████████| 480/480 [02:10<00:00,  3.67it/s]\n"
     ]
    }
   ],
   "source": [
    "num_neighbors = 1\n",
    "\n",
    "all_outputs, all_targets = [], []\n",
    "genes = []\n",
    "\n",
    "# iterate over all gene sequences\n",
    "for i,x in tqdm.tqdm(enumerate(val_loader), disable = False, total=len(val_dataset)):\n",
    "    #gene_slice, strand = get_gene_slice_and_strand(transcriptome, val_dataset_targets.genome_ds.df[i, 'column_4'], val_dataset_targets.genome_ds.df[i, 'column_2'], span = False)\n",
    "    # gene_slice = [0,1]\n",
    "    # continue\n",
    "    #targets = (next(val_dataset_target_loader)[2]).float().cuda()\n",
    "    genes.append(val_dataset.genome_ds.df[i, 'column_4'])\n",
    "    bs = x[0].shape[0]\n",
    "    seqs = x[0].cuda().permute(0,2,1)\n",
    "    stacked_outputs = []\n",
    "    # break\n",
    "\n",
    "    stacked_outputs = get_pseudobulk_count_pred(\n",
    "        csb = csb, \n",
    "        seqs = seqs, \n",
    "        cell_emb_conv_weights_and_biases = cell_emb_conv_weights_and_biases, \n",
    "        gene_slice = torch.Tensor([3071,3072]).to(torch.int),\n",
    "        strand = None, \n",
    "        model_type = \"count\",\n",
    "        predict = predict,  \n",
    "        clip_soft = clip_soft, \n",
    "        num_neighbors = 1,\n",
    "        process_counts=False\n",
    "    )\n",
    "    # break\n",
    "    temp_stack = []\n",
    "    all_outputs.append(stacked_outputs)\n",
    "    \"\"\"\n",
    "    if strand == '+':\n",
    "        all_targets.append(undo_squashed_scale(targets[0, gene_slice, ::2], clip_soft=384).sum(axis=0).detach().clone().cpu().squeeze())\n",
    "    elif strand == '-':\n",
    "        all_targets.append(undo_squashed_scale(targets[0, gene_slice, 1::2], clip_soft=384).sum(axis=0).detach().clone().cpu().squeeze())\n",
    "    # if i == 100:\n",
    "    #     break\n",
    "    \"\"\"\n",
    "all_outputs = torch.vstack(all_outputs).clone().numpy(force=True)"
   ]
  },
  {
   "cell_type": "code",
   "execution_count": 51,
   "id": "534b4f52-ec9a-4d61-8c2d-a898d0553385",
   "metadata": {},
   "outputs": [],
   "source": [
    "all_targets = adata_aggregated[cell_type_index.celltype.tolist(), genes].layers[\"sum\"].T.copy()"
   ]
  },
  {
   "cell_type": "code",
   "execution_count": 52,
   "id": "08d6876b-0b8b-4015-8272-738ee8c586ff",
   "metadata": {},
   "outputs": [
    {
     "data": {
      "text/plain": [
       "Text(0, 0.5, 'Target')"
      ]
     },
     "execution_count": 52,
     "metadata": {},
     "output_type": "execute_result"
    },
    {
     "data": {
      "image/png": "[encoded data removed]",
      "text/plain": [
       "<Figure size 640x480 with 1 Axes>"
      ]
     },
     "metadata": {},
     "output_type": "display_data"
    }
   ],
   "source": [
    "import matplotlib.pyplot as plt\n",
    "plt.plot(np.log2((all_outputs+1)), np.log2(all_targets+1), '.')\n",
    "plt.xlabel('Predicted')\n",
    "plt.ylabel('Target')"
   ]
  },
  {
   "cell_type": "code",
   "execution_count": 53,
   "id": "4981146a-950d-416f-b9e9-3b2848e48075",
   "metadata": {},
   "outputs": [],
   "source": [
    "spearmanr = [\n",
    "    scipy.stats.spearmanr(np.log2(all_outputs[:, i] + 1), \n",
    "                          np.log2(all_targets[:, i] + 1))[0] for i in range(all_outputs.shape[1])\n",
    "]\n",
    "pearsonr =  [\n",
    "    scipy.stats.pearsonr (np.log2(all_outputs[:, i] + 1), \n",
    "                          np.log2(all_targets[:, i] + 1))[0] for i in range(all_outputs.shape[1])]"
   ]
  },
  {
   "cell_type": "code",
   "execution_count": 54,
   "id": "e3b5419d-a2bb-4731-81a6-bff0a1f3af8d",
   "metadata": {},
   "outputs": [
    {
     "data": {
      "text/plain": [
       "(0.07747205610251019, 0.0734742821117539)"
      ]
     },
     "execution_count": 54,
     "metadata": {},
     "output_type": "execute_result"
    }
   ],
   "source": [
    "np.mean(pearsonr), np.median(pearsonr) # np.mean(pearsonr), np.median(pearsonr) with normos (0.8695861071966647, 0.8775566542956221)"
   ]
  },
  {
   "cell_type": "code",
   "execution_count": 55,
   "id": "d2a7cd5c-6845-473d-b0c4-cfba6507c421",
   "metadata": {},
   "outputs": [
    {
     "data": {
      "text/plain": [
       "Text(0.5, 1.0, 'Count, across gene comparison')"
      ]
     },
     "execution_count": 55,
     "metadata": {},
     "output_type": "execute_result"
    },
    {
     "data": {
      "image/png": "[encoded data removed]",
      "text/plain": [
       "<Figure size 640x480 with 1 Axes>"
      ]
     },
     "metadata": {},
     "output_type": "display_data"
    }
   ],
   "source": [
    "import seaborn as sns\n",
    "sns.set_theme(style=\"whitegrid\",  font_scale=0.8)\n",
    "sns.histplot(pearsonr, bins = 15)\n",
    "plt.xlabel('Pearson correlation')\n",
    "plt.title('Count, across gene comparison',  size = 12)"
   ]
  },
  {
   "cell_type": "code",
   "execution_count": 56,
   "id": "d0757e60-239d-47ad-b585-e6190bea116e",
   "metadata": {},
   "outputs": [],
   "source": [
    "# log2(x+1)\n",
    "counts_predicted_log = np.log2(pd.DataFrame(all_outputs) + 1)  #pd.read_parquet(\"/data/ceph/hdd/project/node_08/QNA/scborzoi/neurips_bone_marrow/eval/count_predicted_log.parquet\")# np.log2(pd.DataFrame(all_outputs) + 1) \n",
    "#counts_predicted_log = counts_predicted_log.drop(16, axis = 1) #remove other myloids?\n",
    "# substract mean per gene across all cell types\n",
    "counts_predicted_log = counts_predicted_log - counts_predicted_log.mean(axis=0)\n",
    "\n",
    "#substract mean per cell type across all genes\n",
    "counts_predicted_log = counts_predicted_log.subtract(counts_predicted_log.mean(axis=1), axis=0)\n",
    "counts_target_log =np.log2(pd.DataFrame(all_targets) + 1)# pd.read_parquet(\"/data/ceph/hdd/project/node_08/QNA/scborzoi/neurips_bone_marrow/eval/count_target_log.parquet\")# np.log2(pd.DataFrame(all_targets) + 1)\n",
    "#counts_target_log = counts_target_log.drop(16, axis = 1) #remove other myloids?\n",
    "counts_target_log = counts_target_log - counts_target_log.mean(axis=0)\n",
    "\n",
    "counts_target_log = counts_target_log.subtract(counts_target_log.mean(axis=1), axis=0)"
   ]
  },
  {
   "cell_type": "code",
   "execution_count": 57,
   "id": "f9d1aa39-e226-400a-afbf-d1cfd976f2db",
   "metadata": {},
   "outputs": [],
   "source": [
    "import matplotlib as mp\n",
    "font_size=  12\n",
    "mp.rcParams['axes.labelsize'] = font_size\n",
    "mp.rcParams['axes.linewidth'] = font_size / 24.\n",
    "mp.rcParams['axes.titlesize'] = font_size\n",
    "mp.rcParams['legend.fontsize'] = font_size\n",
    "mp.rcParams['xtick.labelsize'] = font_size\n",
    "mp.rcParams['ytick.labelsize'] = font_size"
   ]
  },
  {
   "cell_type": "code",
   "execution_count": 58,
   "id": "6c7fd0ef-8a9e-4c12-a7ef-2dae3021304c",
   "metadata": {},
   "outputs": [
    {
     "name": "stdout",
     "output_type": "stream",
     "text": [
      "0.010826328092315554\n"
     ]
    },
    {
     "data": {
      "text/plain": [
       "Text(0.5, 0, 'Predicted')"
      ]
     },
     "execution_count": 58,
     "metadata": {},
     "output_type": "execute_result"
    },
    {
     "data": {
      "image/png": "[encoded data removed]",
      "text/plain": [
       "<Figure size 640x480 with 2 Axes>"
      ]
     },
     "metadata": {},
     "output_type": "display_data"
    }
   ],
   "source": [
    "from matplotlib import pyplot as plt\n",
    "from matplotlib.colors import LogNorm\n",
    "ax = plt.hexbin(x=counts_predicted_log.values.ravel(), y=counts_target_log.values.ravel(), mincnt=1, cmap='plasma', norm=LogNorm())\n",
    "plt.axvline(1, c='k', linewidth = font_size/24)\n",
    "plt.axvline(-1,c='k', linewidth = font_size/24)\n",
    "plt.axhline(1,c='k', linewidth = font_size/24)\n",
    "plt.axhline(-1,c='k', linewidth = font_size/24)\n",
    "plt.colorbar()\n",
    "plt.ylabel('Target')\n",
    "plt.title('Count, across cell types, test')\n",
    "p=scipy.stats.pearsonr(counts_predicted_log.values.ravel(), counts_target_log.values.ravel())[0]\n",
    "# plt.text(2.5,-5, f\"Pearson corr.: {np.round(p, 3)}\", bbox=dict(facecolor='white', edgecolor='black', boxstyle='round'))\n",
    "plt.text(.7,-4.4, f\"Mean \" + r\"Pearson R\"+ f\" = {p:.3f} \\nn = {len(counts_predicted_log.values.ravel())}\", bbox=dict(facecolor='white', edgecolor='white', boxstyle='round'), fontdict={'size' : 10})\n",
    "print(p)\n",
    "plt.xlabel('Predicted')\n",
    "#plt.savefig(\"Fig2E.svg\",bbox_inches=\"tight\")"
   ]
  },
  {
   "cell_type": "code",
   "execution_count": 60,
   "id": "86483eaa-1035-417a-9fbb-4c01a0d5d400",
   "metadata": {},
   "outputs": [
    {
     "data": {
      "text/plain": [
       "<Axes: >"
      ]
     },
     "execution_count": 60,
     "metadata": {},
     "output_type": "execute_result"
    },
    {
     "data": {
      "image/png": "[encoded data removed]",
      "text/plain": [
       "<Figure size 640x480 with 2 Axes>"
      ]
     },
     "metadata": {},
     "output_type": "display_data"
    }
   ],
   "source": [
    "sns.heatmap(all_outputs > 0)"
   ]
  },
  {
   "cell_type": "code",
   "execution_count": 61,
   "id": "4be4d48f-3659-4205-9fc7-5c50fac15e5e",
   "metadata": {},
   "outputs": [
    {
     "data": {
      "text/plain": [
       "<Axes: >"
      ]
     },
     "execution_count": 61,
     "metadata": {},
     "output_type": "execute_result"
    },
    {
     "data": {
      "image/png": "[encoded data removed]",
      "text/plain": [
       "<Figure size 640x480 with 2 Axes>"
      ]
     },
     "metadata": {},
     "output_type": "display_data"
    }
   ],
   "source": [
    "sns.heatmap(all_targets > 0)"
   ]
  },
  {
   "cell_type": "code",
   "execution_count": null,
   "id": "2aac6b71-b844-48df-9bc5-d891951d1508",
   "metadata": {},
   "outputs": [],
   "source": []
  },
  {
   "cell_type": "code",
   "execution_count": null,
   "id": "a69b7b59-ae7b-4276-bf3a-8f2256a02d32",
   "metadata": {},
   "outputs": [],
   "source": []
  },
  {
   "cell_type": "code",
   "execution_count": null,
   "id": "465273ec-5f30-457a-aecc-7d8e09bfadc8",
   "metadata": {},
   "outputs": [],
   "source": []
  },
  {
   "cell_type": "code",
   "execution_count": null,
   "id": "655a9302-79e7-4a97-a753-7aeb2e3fc8ce",
   "metadata": {},
   "outputs": [],
   "source": []
  },
  {
   "cell_type": "code",
   "execution_count": null,
   "id": "a3432cb3-d254-4120-9143-6aed29fd1013",
   "metadata": {},
   "outputs": [],
   "source": []
  },
  {
   "cell_type": "code",
   "execution_count": null,
   "id": "01334fc1-21f2-426e-8433-f54fe84b4f46",
   "metadata": {},
   "outputs": [],
   "source": []
  },
  {
   "cell_type": "code",
   "execution_count": null,
   "id": "e3847ac6-902a-4e13-8fbb-9c2b25ff8f6b",
   "metadata": {},
   "outputs": [],
   "source": []
  }
 ],
 "metadata": {
  "kernelspec": {
   "display_name": "scooby",
   "language": "python",
   "name": "scooby"
  },
  "language_info": {
   "codemirror_mode": {
    "name": "ipython",
    "version": 3
   },
   "file_extension": ".py",
   "mimetype": "text/x-python",
   "name": "python",
   "nbconvert_exporter": "python",
   "pygments_lexer": "ipython3",
   "version": "3.9.21"
  }
 },
 "nbformat": 4,
 "nbformat_minor": 5
}
